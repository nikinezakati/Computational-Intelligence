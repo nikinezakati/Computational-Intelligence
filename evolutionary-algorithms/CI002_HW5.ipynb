{
  "cells": [
    {
      "cell_type": "markdown",
      "metadata": {
        "id": "heBxPYfc0U22"
      },
      "source": [
        "# Your info\n",
        "\n",
        "Full name:Niki Nezakati\n",
        "\n",
        "Student ID:98522094"
      ]
    },
    {
      "cell_type": "markdown",
      "metadata": {
        "id": "E9fdM6-rp6ER"
      },
      "source": [
        "## Q4"
      ]
    },
    {
      "cell_type": "code",
      "execution_count": 13,
      "metadata": {
        "id": "fvvwGQoqp8Io",
        "colab": {
          "base_uri": "https://localhost:8080/"
        },
        "outputId": "2c657e03-7e4f-445b-da80-cc03d8ef5b68"
      },
      "outputs": [
        {
          "output_type": "stream",
          "name": "stdout",
          "text": [
            "0.3692877567453548\n"
          ]
        }
      ],
      "source": [
        "# Q4_graded\n",
        "# Do not change the above line.\n",
        "\n",
        "import random\n",
        "\n",
        "population = []\n",
        "\n",
        "def initialize_population(pop_size=1000):\n",
        "    global population\n",
        "    population = []\n",
        "    for i in range(pop_size):\n",
        "        population.append(random.uniform(-10, 10))\n",
        "\n",
        "def fitness(x):\n",
        "    return abs(168 * x ** 3 - 7.22 * x ** 2 + 15.5 * x - 13.2)\n",
        "\n",
        "\n",
        "def sort_by_fitness():\n",
        "    global population\n",
        "    population.sort(key=fitness)\n",
        "\n",
        "\n",
        "def reproduce(parent1, parent2, range=10):\n",
        "    midpoint = random.randrange(1, range)\n",
        "    child1 = (parent1 * midpoint + parent2 * (range - midpoint)) / range\n",
        "    child2 = (parent2 * midpoint + parent1 * (range - midpoint)) / range\n",
        "    return child1, child2\n",
        "\n",
        "def crossover(c_range=10):\n",
        "    global population\n",
        "    for i in range(len(population) // 2):\n",
        "        x = population[2 * i]\n",
        "        y = population[2 * i + 1]\n",
        "        child1, child2 = reproduce(x, y, c_range)\n",
        "        population[2 * i] = child1\n",
        "        population[2 * i + 1] = child2\n",
        "\n",
        "\n",
        "def mutate(alpha):\n",
        "    global population\n",
        "    for i in range(len(population)):\n",
        "        if random.random() < alpha:\n",
        "            population[i] += random.uniform(-0.1, 0.1)\n",
        "\n",
        "\n",
        "def GA(pop_size=1000, threshold=0.000001, crossover_range=10, alpha=0.1):\n",
        "    initialize_population(pop_size)\n",
        "    sort_by_fitness()\n",
        "    generation = 0\n",
        "    while fitness(population[0]) > threshold:\n",
        "        crossover(crossover_range)\n",
        "        mutate(alpha)\n",
        "        sort_by_fitness()\n",
        "        generation += 1\n",
        "    return population[0]\n",
        "\n",
        "\n",
        "\n",
        "print(GA())    \n",
        "\n"
      ]
    },
    {
      "cell_type": "markdown",
      "metadata": {
        "id": "66z89vIQn6Oe"
      },
      "source": [
        "## Q5\n"
      ]
    },
    {
      "cell_type": "code",
      "source": [
        "# Q5_graded\n",
        "# Do not change the above line.\n",
        "\n",
        "class Task:\n",
        "  def __init__(self, time_demand: float, machine_demand: float):\n",
        "    self.time_demand = time_demand\n",
        "    self.machine_demand = machine_demand\n",
        "\n",
        "class Machine:\n",
        "  def __init__(self, machine_id: int, time_supply: float, time_velocity: float, machine_supply: float, machine_capacity: float):\n",
        "    self.id = machine_id\n",
        "    self.time_supply = time_supply\n",
        "    self.time_velocity = time_velocity\n",
        "    self.machine_supply = machine_supply\n",
        "    self.machine_capacity = machine_capacity      "
      ],
      "metadata": {
        "id": "qNQSQgtJdMfk"
      },
      "execution_count": 14,
      "outputs": []
    },
    {
      "cell_type": "code",
      "source": [
        "# Q5_graded\n",
        "# Do not change the above line.\n",
        "import numpy as np\n",
        "from typing import List\n",
        "from matplotlib import pyplot as plt\n",
        "\n",
        "class ACOscheduler:\n",
        "  def __init__(self, tasks, machines, population_number=100, iterations=500):\n",
        "    self.tasks = tasks\n",
        "    self.machines = machines\n",
        "    self.task_num = len(tasks) # The number of tasks  \n",
        "    self.machine_number = len(machines) # Number of machines \n",
        "    self.population_number = population_number # Population number \n",
        "    self.iterations = iterations \n",
        "    # The pheromone of the machine representing the task selection \n",
        "    self.pheromone_phs = [[100 for _ in range(self.machine_number)] for _ in range(self.task_num)]\n",
        "    self.best_pheromone = None\n",
        "\n",
        "# Generate a new solution vector \n",
        "  def gen_pheromone_jobs(self):\n",
        "    ans = [-1 for _ in range(self.task_num)]\n",
        "    node_free = [node_id for node_id in range(self.machine_number)]\n",
        "    for let in range(self.task_num):\n",
        "      ph_sum = np.sum(list(map(lambda j: self.pheromone_phs[let][j], node_free)))\n",
        "      test_val = 0\n",
        "      rand_ph = np.random.uniform(0, ph_sum)\n",
        "      for node_id in node_free:\n",
        "        test_val += self.pheromone_phs[let][node_id]\n",
        "        if rand_ph <= test_val:\n",
        "          ans[let] = node_id\n",
        "          break\n",
        "    return ans\n",
        "\n",
        "# Evaluate the current solution vector \n",
        "  def evaluate_particle(self, pheromone_jobs: List[int]) -> int:\n",
        "    time_util = np.zeros(self.machine_number)\n",
        "    machine_util = np.zeros(self.machine_number)\n",
        "\n",
        "    for i in range(len(self.machines)):\n",
        "      time_util[i] = self.machines[i].time_supply\n",
        "      machine_util[i] = self.machines[i].machine_supply\n",
        "\n",
        "    for i in range(self.task_num):\n",
        "      time_util[pheromone_jobs[i]] += self.tasks[i].time_demand\n",
        "      machine_util[pheromone_jobs[i]] += self.tasks[i].machine_demand\n",
        "\n",
        "    for i in range(self.machine_number):\n",
        "      if time_util[i] > self.machines[i].time_velocity:\n",
        "        return 100\n",
        "      if machine_util[i] > self.machines[i].machine_capacity:\n",
        "        return 100\n",
        "    for i in range(self.machine_number):\n",
        "      time_util[i] /= self.machines[i].time_velocity\n",
        "      machine_util[i] /= self.machines[i].machine_capacity\n",
        "\n",
        "    return np.std(time_util, ddof=1) + np.std(machine_util, ddof=1)\n",
        "\n",
        "\n",
        "  # Calculate Fitness \n",
        "  def calculate_fitness(self, pheromone_jobs: List[int]) -> float:\n",
        "    return 1 / self.evaluate_particle(pheromone_jobs)\n",
        "\n",
        "  # Update pheromones \n",
        "  def update_pheromones(self):\n",
        "\n",
        "    for i in range(self.task_num):\n",
        "      for j in range(self.machine_number):\n",
        "        if j == self.best_pheromone[i]:\n",
        "          self.pheromone_phs[i][j] *= 2\n",
        "        else:\n",
        "          self.pheromone_phs[i][j] *= 0.5\n",
        "\n",
        "  def scheduler_main(self):\n",
        "    results = [0 for _ in range(self.iterations)]\n",
        "    fitness = 0\n",
        "\n",
        "    for it in range(self.iterations):\n",
        "      best_time = 0\n",
        "      for ant_id in range(self.population_number):\n",
        "        pheromone_jobs = self.gen_pheromone_jobs()\n",
        "        fitness = self.calculate_fitness(pheromone_jobs)\n",
        "        if fitness > best_time:\n",
        "          self.best_pheromone = pheromone_jobs\n",
        "          best_time = fitness\n",
        "          assert self.best_pheromone is not None\n",
        "          self.update_pheromones()\n",
        "          results[it] = best_time\n",
        "          if it % 10 == 0:\n",
        "            print(\"ACO iter: \", it, \" / \", self.iterations, \", Fitness : \", fitness)\n",
        "    return results\n",
        "\n",
        "\n",
        "if __name__ == '__main__':\n",
        "  nodes = [Machine(0, 0.862, 950, 950, 1719), Machine(1, 0.962, 2, 950, 1719), Machine(2, 1.062, 2, 1500, 1719)]\n",
        "  lets = [Task(0.15, 50), Task(0.05, 100), Task(0.2, 60),\n",
        "  Task(0.01, 70), Task(0.04, 80), Task(0.07, 20),\n",
        "  Task(0.14, 150), Task(0.15, 200), Task(0.03, 40), Task(0.06, 90)]\n",
        "  ac = ACOscheduler(lets, nodes, iterations=150)\n",
        "  res = ac.scheduler_main()\n",
        "  i = 0\n",
        "  for _ in ac.best_pheromone:\n",
        "    print(\" Task :\", i, \" Put it on the machine \", ac.best_pheromone[i])\n",
        "    i += 1"
      ],
      "metadata": {
        "colab": {
          "base_uri": "https://localhost:8080/"
        },
        "id": "qy34LWaQGr4d",
        "outputId": "1c3000df-62d6-4433-8dca-ae1883591a42"
      },
      "execution_count": 15,
      "outputs": [
        {
          "output_type": "stream",
          "name": "stdout",
          "text": [
            "ACO iter:  0  /  150 , Fitness :  0.01\n",
            "ACO iter:  0  /  150 , Fitness :  1.9757380856930447\n",
            "ACO iter:  0  /  150 , Fitness :  1.983983586616108\n",
            "ACO iter:  0  /  150 , Fitness :  2.179601865260971\n",
            "ACO iter:  10  /  150 , Fitness :  1.983983586616108\n",
            "ACO iter:  20  /  150 , Fitness :  1.983983586616108\n",
            "ACO iter:  30  /  150 , Fitness :  1.983983586616108\n",
            "ACO iter:  40  /  150 , Fitness :  1.983983586616108\n",
            "ACO iter:  50  /  150 , Fitness :  1.983983586616108\n",
            "ACO iter:  60  /  150 , Fitness :  1.983983586616108\n",
            "ACO iter:  70  /  150 , Fitness :  1.983983586616108\n",
            "ACO iter:  80  /  150 , Fitness :  1.983983586616108\n",
            "ACO iter:  90  /  150 , Fitness :  1.983983586616108\n",
            "ACO iter:  100  /  150 , Fitness :  1.983983586616108\n",
            "ACO iter:  110  /  150 , Fitness :  1.983983586616108\n",
            "ACO iter:  120  /  150 , Fitness :  1.983983586616108\n",
            "ACO iter:  130  /  150 , Fitness :  1.983983586616108\n",
            "ACO iter:  140  /  150 , Fitness :  1.983983586616108\n",
            " Task : 0  Put it on the machine  1\n",
            " Task : 1  Put it on the machine  2\n",
            " Task : 2  Put it on the machine  0\n",
            " Task : 3  Put it on the machine  0\n",
            " Task : 4  Put it on the machine  0\n",
            " Task : 5  Put it on the machine  1\n",
            " Task : 6  Put it on the machine  0\n",
            " Task : 7  Put it on the machine  1\n",
            " Task : 8  Put it on the machine  0\n",
            " Task : 9  Put it on the machine  2\n"
          ]
        }
      ]
    },
    {
      "cell_type": "markdown",
      "metadata": {
        "id": "iRqYhKw1rgUp"
      },
      "source": [
        "# <font color='red'>Submission</font>\n",
        "\n",
        "1. Sign up in [Gradescope](https://www.gradescope.com) with proper name and student ID.\n",
        "2. Fill in your full name (seperated by single spaces) and student ID in the beginning of this notebook.\n",
        "3. After you're done with this notebook, you should do the following:\n",
        "  - Clear all outputs of the notebook.\n",
        "  ![clear all outputs](https://i.ibb.co/y6FrttB/Screen-Shot-2021-03-21-at-01-51-42.png)\n",
        "  - Run all of the cells (if you skipped a question just leave the cell unchanged), and make sure all of your outputs are correct.\n",
        "  ![run all](https://i.ibb.co/cgRcBZ0/Screen-Shot-2021-03-21-at-01-54-58.png)\n",
        "  - Save your notebook.\n",
        "  \n",
        "  - If you're using Colab, download your notebook.\n",
        "  ![download ipynb](https://i.ibb.co/2KxYM6K/Screen-Shot-2021-03-21-at-02-03-50.png)\n",
        "  \n",
        "  - Put the notebook file you just downloaded and `convert.py` in the same folder run the following command:\n",
        "  ```bash\n",
        "  python convert.py\n",
        "  ```\n",
        "  This will export your code for each question into a `.py` file.\n",
        "    - **Note**: if you want to add more cells, add this to the **first** line of the cell:\n",
        "  ```python\n",
        "  # Q4_graded or #Q5_graded\n",
        "  ```\n",
        "  according to the question number.\n",
        "  - There are 2 assignments in Gradescope:\n",
        "  \n",
        "    You should upload your **codes** and your **notebook** in `HW5` section and your final report for all of the questions as a **single pdf** file in `HW5 - Report`. Autograder will automatically check for:\n",
        "    - `CI002_HW5.ipynb`\n",
        "    - `Q4.py`\n",
        "    - `Q5.py`\n",
        "    - Your name and ID in the beginning of `.ipynb` file.\n",
        "\n",
        "    It is important that you <font color='red'>**don't**</font> change the names of these files before submission.\n",
        "\n",
        "4. If you pass the autograder, you're good to go."
      ]
    }
  ],
  "metadata": {
    "accelerator": "TPU",
    "colab": {
      "collapsed_sections": [],
      "name": "CI002_HW5.ipynb",
      "provenance": []
    },
    "interpreter": {
      "hash": "e883f15e1a458694b4dface6b8d226f60455f03a8d5ca76c66d33687294f652b"
    },
    "kernelspec": {
      "display_name": "Python 3.7.4 64-bit",
      "language": "python",
      "name": "python3"
    },
    "language_info": {
      "codemirror_mode": {
        "name": "ipython",
        "version": 3
      },
      "file_extension": ".py",
      "mimetype": "text/x-python",
      "name": "python",
      "nbconvert_exporter": "python",
      "pygments_lexer": "ipython3",
      "version": "3.7.4"
    }
  },
  "nbformat": 4,
  "nbformat_minor": 0
}