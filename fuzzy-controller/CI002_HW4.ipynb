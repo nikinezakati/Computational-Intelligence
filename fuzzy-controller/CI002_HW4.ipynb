{
  "cells": [
    {
      "cell_type": "markdown",
      "metadata": {
        "id": "JQ83kEIdXmdT"
      },
      "source": [
        "# Your info\n",
        "\n",
        "Full name: Niki Nezakati\n",
        "\n",
        "Student ID: 98522094"
      ]
    },
    {
      "cell_type": "markdown",
      "metadata": {
        "id": "UUrDLIjFXt23"
      },
      "source": [
        "#**Q2** \n"
      ]
    },
    {
      "cell_type": "code",
      "execution_count": 21,
      "metadata": {
        "colab": {
          "base_uri": "https://localhost:8080/"
        },
        "id": "84lGMO-0Xb27",
        "outputId": "65efc724-6c21-4048-ec3c-972415e42035"
      },
      "outputs": [
        {
          "name": "stdout",
          "output_type": "stream",
          "text": [
            "Looking in indexes: https://pypi.org/simple, https://us-python.pkg.dev/colab-wheels/public/simple/\n",
            "Requirement already satisfied: simpful in /usr/local/lib/python3.7/dist-packages (2.6.3)\n",
            "Requirement already satisfied: numpy>=1.12.0 in /usr/local/lib/python3.7/dist-packages (from simpful) (1.21.6)\n",
            "Requirement already satisfied: requests in /usr/local/lib/python3.7/dist-packages (from simpful) (2.23.0)\n",
            "Requirement already satisfied: scipy>=1.0.0 in /usr/local/lib/python3.7/dist-packages (from simpful) (1.4.1)\n",
            "Requirement already satisfied: idna<3,>=2.5 in /usr/local/lib/python3.7/dist-packages (from requests->simpful) (2.10)\n",
            "Requirement already satisfied: chardet<4,>=3.0.2 in /usr/local/lib/python3.7/dist-packages (from requests->simpful) (3.0.4)\n",
            "Requirement already satisfied: certifi>=2017.4.17 in /usr/local/lib/python3.7/dist-packages (from requests->simpful) (2022.5.18.1)\n",
            "Requirement already satisfied: urllib3!=1.25.0,!=1.25.1,<1.26,>=1.21.1 in /usr/local/lib/python3.7/dist-packages (from requests->simpful) (1.24.3)\n"
          ]
        }
      ],
      "source": [
        "# Q2_graded\n",
        "# Do not change the above line.\n",
        "!pip install simpful\n",
        "# Remove this comment and type your codes here"
      ]
    },
    {
      "cell_type": "markdown",
      "metadata": {
        "id": "4U3jzJq_K7c2"
      },
      "source": [
        "### Terms Determination"
      ]
    },
    {
      "cell_type": "code",
      "execution_count": 22,
      "metadata": {
        "colab": {
          "base_uri": "https://localhost:8080/"
        },
        "id": "_-Agw--OLQ3u",
        "outputId": "730bf448-b961-4780-be37-49dd5b165270"
      },
      "outputs": [
        {
          "name": "stdout",
          "output_type": "stream",
          "text": [
            "  ____  __  _  _  ____  ____  _  _  __   \n",
            " / ___)(  )( \\/ )(  _ \\(  __)/ )( \\(  ) v2.6.3 \n",
            " \\___ \\ )( / \\/ \\ ) __/ ) _) ) \\/ (/ (_/\\ \n",
            " (____/(__)\\_)(_/(__)  (__)  \\____/\\____/\n",
            "\n",
            " Created by Marco S. Nobile (m.s.nobile@tue.nl)\n",
            " and Simone Spolaor (simone.spolaor@unimib.it)\n",
            "\n"
          ]
        }
      ],
      "source": [
        "# Q2_graded\n",
        "# Do not change the above line.\n",
        "\n",
        "from simpful import *\n",
        "\n",
        "FS = FuzzySystem()\n",
        "\n",
        "player_price = AutoTriangle(6, terms=['very cheap', 'cheap', 'normal', 'expensive', 'very_expensive', 'extremely_expensive'], universe_of_discourse=[0,1000])\n",
        "player_age = AutoTriangle(5, terms=['very_young', 'young', 'middle_age', 'old', 'very_old'], universe_of_discourse=[18,40])\n",
        "last_5_matches = AutoTriangle(3, terms=['bad', 'medium', 'good'], universe_of_discourse=[0,5])\n"
      ]
    },
    {
      "cell_type": "markdown",
      "metadata": {
        "id": "A0HuEdkfLYlQ"
      },
      "source": [
        "## Sepahan Players' Terms"
      ]
    },
    {
      "cell_type": "code",
      "execution_count": 23,
      "metadata": {
        "id": "HCHZcoW6K58P"
      },
      "outputs": [],
      "source": [
        "# Q2_graded\n",
        "# Do not change the above line.\n",
        "\n",
        "FS.add_linguistic_variable(\"price_GoalKeeper_Sepahan\", player_price)\n",
        "FS.add_linguistic_variable(\"age_GoalKeeper_Sepahan\", player_age)\n",
        "FS.add_linguistic_variable(\"price_LeftDiffender_Sepahan\", player_price)\n",
        "FS.add_linguistic_variable(\"age_LeftDiffender_Sepahan\", player_age)\n",
        "FS.add_linguistic_variable(\"price_RightDiffender_Sepahan\", player_price)\n",
        "FS.add_linguistic_variable(\"age_RightDiffender_Sepahan\", player_age)\n",
        "FS.add_linguistic_variable(\"price_MidDiffender1_Sepahan\", player_price)\n",
        "FS.add_linguistic_variable(\"age_MidDiffender1_Sepahan\", player_age)\n",
        "FS.add_linguistic_variable(\"price_MidDiffender2_Sepahan\", player_price)\n",
        "FS.add_linguistic_variable(\"age_MidDiffender2_Sepahan\", player_age)\n",
        "FS.add_linguistic_variable(\"price_MidFielder1_Sepahan\", player_price)\n",
        "FS.add_linguistic_variable(\"age_MidFielder1_Sepahan\", player_age)\n",
        "FS.add_linguistic_variable(\"price_MidFielder2_Sepahan\", player_price)\n",
        "FS.add_linguistic_variable(\"age_MidFielder2_Sepahan\", player_age)\n",
        "FS.add_linguistic_variable(\"price_MidFielder3_Sepahan\", player_price)\n",
        "FS.add_linguistic_variable(\"age_MidFielder3_Sepahan\", player_age)\n",
        "FS.add_linguistic_variable(\"price_RightForward_Sepahan\", player_price)\n",
        "FS.add_linguistic_variable(\"age_RightForward_Sepahan\", player_age)\n",
        "FS.add_linguistic_variable(\"price_LeftForward_Sepahan\", player_price)\n",
        "FS.add_linguistic_variable(\"age_LeftForward_Sepahan\", player_age)\n",
        "FS.add_linguistic_variable(\"price_CenterForward_Sepahan\", player_price)\n",
        "FS.add_linguistic_variable(\"age_CenterForward_Sepahan\", player_age)"
      ]
    },
    {
      "cell_type": "markdown",
      "metadata": {
        "id": "WQQx2UBMK5WW"
      },
      "source": [
        "## Foolad Players' Terms"
      ]
    },
    {
      "cell_type": "code",
      "execution_count": 24,
      "metadata": {
        "id": "gUtltObHK0EH"
      },
      "outputs": [],
      "source": [
        "# Q2_graded\n",
        "# Do not change the above line.\n",
        "\n",
        "FS.add_linguistic_variable(\"price_GoalKeeper_Foolad\", player_price)\n",
        "FS.add_linguistic_variable(\"age_GoalKeeper_Foolad\", player_age)\n",
        "FS.add_linguistic_variable(\"price_LeftDiffender_Foolad\", player_price)\n",
        "FS.add_linguistic_variable(\"age_LeftDiffender_Foolad\", player_age)\n",
        "FS.add_linguistic_variable(\"price_RightDiffender_Foolad\", player_price)\n",
        "FS.add_linguistic_variable(\"age_RightDiffender_Foolad\", player_age)\n",
        "FS.add_linguistic_variable(\"price_MidDiffender1_Foolad\", player_price)\n",
        "FS.add_linguistic_variable(\"age_MidDiffender1_Foolad\", player_age)\n",
        "FS.add_linguistic_variable(\"price_MidDiffender2_Foolad\", player_price)\n",
        "FS.add_linguistic_variable(\"age_MidDiffender2_Foolad\", player_age)\n",
        "FS.add_linguistic_variable(\"price_MidFielder1_Foolad\", player_price)\n",
        "FS.add_linguistic_variable(\"age_MidFielder1_Foolad\", player_age)\n",
        "FS.add_linguistic_variable(\"price_MidFielder2_Foolad\", player_price)\n",
        "FS.add_linguistic_variable(\"age_MidFielder2_Foolad\", player_age)\n",
        "FS.add_linguistic_variable(\"price_MidFielder3_Foolad\", player_price)\n",
        "FS.add_linguistic_variable(\"age_MidFielder3_Foolad\", player_age)\n",
        "FS.add_linguistic_variable(\"price_RightForward_Foolad\", player_price)\n",
        "FS.add_linguistic_variable(\"age_RightForward_Foolad\", player_age)\n",
        "FS.add_linguistic_variable(\"price_LeftForward_Foolad\", player_price)\n",
        "FS.add_linguistic_variable(\"age_LeftForward_Foolad\", player_age)\n",
        "FS.add_linguistic_variable(\"price_CenterForward_Foolad\", player_price)\n",
        "FS.add_linguistic_variable(\"age_CenterForward_Foolad\", player_age)"
      ]
    },
    {
      "cell_type": "markdown",
      "metadata": {
        "id": "zcUbYBg5NP0t"
      },
      "source": [
        "## Matches and Results"
      ]
    },
    {
      "cell_type": "code",
      "execution_count": 25,
      "metadata": {
        "id": "ID32bTGuNVFS"
      },
      "outputs": [],
      "source": [
        "# Q2_graded\n",
        "# Do not change the above line.\n",
        "\n",
        "FS.add_linguistic_variable(\"history_Foolad\", last_5_matches)\n",
        "FS.add_linguistic_variable(\"history_Sepahan\", last_5_matches)\n",
        "\n",
        "result = AutoTriangle(3, terms=['Sepahan_win', 'tie', 'Foolad_win'], universe_of_discourse=[-10,10])\n",
        "FS.add_linguistic_variable(\"result1\", result)\n",
        "FS.add_linguistic_variable(\"result2\", result)\n",
        "FS.add_linguistic_variable(\"result3\", result)\n",
        "FS.add_linguistic_variable(\"result4\", result)"
      ]
    },
    {
      "cell_type": "markdown",
      "metadata": {
        "id": "Mf84cbYdNhO-"
      },
      "source": [
        "## Rules"
      ]
    },
    {
      "cell_type": "code",
      "execution_count": 26,
      "metadata": {
        "colab": {
          "base_uri": "https://localhost:8080/"
        },
        "id": "8MbV4RaNNj4d",
        "outputId": "384bab36-6cf9-436e-ef45-5bb4a2dcac5d"
      },
      "outputs": [
        {
          "name": "stdout",
          "output_type": "stream",
          "text": [
            " * Simple clause with parentheses matched\n",
            " * Rule: c.(price_GoalKeeper_Sepahan IS expensive)\n",
            " * Added rule IF c.(price_GoalKeeper_Sepahan IS expensive) THEN ('result1', 'Sepahan_win')\n",
            "\n",
            " * Simple clause with parentheses matched\n",
            " * Rule: c.(price_GoalKeeper_Foolad IS cheap)\n",
            " * Added rule IF c.(price_GoalKeeper_Foolad IS cheap) THEN ('result1', 'Sepahan_win')\n",
            "\n",
            " * Simple clause with parentheses matched\n",
            " * Rule: c.(age_GoalKeeper_Sepahan IS middle_age)\n",
            " * Added rule IF c.(age_GoalKeeper_Sepahan IS middle_age) THEN ('result1', 'Sepahan_win')\n",
            "\n",
            " * Simple clause with parentheses matched\n",
            " * Rule: c.(age_GoalKeeper_Foolad IS very_old)\n",
            " * Added rule IF c.(age_GoalKeeper_Foolad IS very_old) THEN ('result1', 'Sepahan_win')\n",
            "\n",
            " * Simple clause with parentheses matched\n",
            " * Rule: c.(price_GoalKeeper_Foolad IS expensive)\n",
            " * Added rule IF c.(price_GoalKeeper_Foolad IS expensive) THEN ('result1', 'Foolad_win')\n",
            "\n",
            " * Simple clause with parentheses matched\n",
            " * Rule: c.(age_GoalKeeper_Sepahan IS very_old)\n",
            " * Added rule IF c.(age_GoalKeeper_Sepahan IS very_old) THEN ('result1', 'Foolad_win')\n",
            "\n",
            " * Simple clause with parentheses matched\n",
            " * Rule: c.(price_MidDiffender1_Sepahan IS expensive)\n",
            " * Added rule IF c.(price_MidDiffender1_Sepahan IS expensive) THEN ('result2', 'Sepahan_win')\n",
            "\n",
            " * Simple clause with parentheses matched\n",
            " * Rule: c.(price_MidDiffender1_Foolad IS cheap)\n",
            " * Added rule IF c.(price_MidDiffender1_Foolad IS cheap) THEN ('result2', 'Sepahan_win')\n",
            "\n",
            " * Simple clause with parentheses matched\n",
            " * Rule: c.(age_MidDiffender1_Sepahan IS middle_age)\n",
            " * Added rule IF c.(age_MidDiffender1_Sepahan IS middle_age) THEN ('result2', 'Sepahan_win')\n",
            "\n",
            " * Simple clause with parentheses matched\n",
            " * Rule: c.(age_MidDiffender1_Foolad IS very_old)\n",
            " * Added rule IF c.(age_MidDiffender1_Foolad IS very_old) THEN ('result2', 'Sepahan_win')\n",
            "\n",
            " * Simple clause with parentheses matched\n",
            " * Rule: c.(price_MidDiffender2_Sepahan IS expensive)\n",
            " * Added rule IF c.(price_MidDiffender2_Sepahan IS expensive) THEN ('result2', 'Sepahan_win')\n",
            "\n",
            " * Simple clause with parentheses matched\n",
            " * Rule: c.(age_MidDiffender2_Sepahan IS middle_age)\n",
            " * Added rule IF c.(age_MidDiffender2_Sepahan IS middle_age) THEN ('result2', 'Sepahan_win')\n",
            "\n",
            " * Simple clause with parentheses matched\n",
            " * Rule: c.(age_MidDiffender2_Foolad IS very_old)\n",
            " * Added rule IF c.(age_MidDiffender2_Foolad IS very_old) THEN ('result2', 'Sepahan_win')\n",
            "\n",
            " * Simple clause with parentheses matched\n",
            " * Rule: c.(price_MidDiffender2_Foolad IS cheap)\n",
            " * Added rule IF c.(price_MidDiffender2_Foolad IS cheap) THEN ('result2', 'Sepahan_win')\n",
            "\n",
            " * Simple clause with parentheses matched\n",
            " * Rule: c.(price_LeftDiffender_Sepahan IS expensive)\n",
            " * Added rule IF c.(price_LeftDiffender_Sepahan IS expensive) THEN ('result2', 'Sepahan_win')\n",
            "\n",
            " * Simple clause with parentheses matched\n",
            " * Rule: c.(age_LeftDiffender_Sepahan IS middle_age)\n",
            " * Added rule IF c.(age_LeftDiffender_Sepahan IS middle_age) THEN ('result2', 'Sepahan_win')\n",
            "\n",
            " * Simple clause with parentheses matched\n",
            " * Rule: c.(age_LeftDiffender_Foolad IS very_old)\n",
            " * Added rule IF c.(age_LeftDiffender_Foolad IS very_old) THEN ('result2', 'Sepahan_win')\n",
            "\n",
            " * Simple clause with parentheses matched\n",
            " * Rule: c.(price_LeftDiffender_Foolad IS cheap)\n",
            " * Added rule IF c.(price_LeftDiffender_Foolad IS cheap) THEN ('result2', 'Sepahan_win')\n",
            "\n",
            " * Simple clause with parentheses matched\n",
            " * Rule: c.(price_RightDiffender_Sepahan IS expensive)\n",
            " * Added rule IF c.(price_RightDiffender_Sepahan IS expensive) THEN ('result2', 'Sepahan_win')\n",
            "\n",
            " * Simple clause with parentheses matched\n",
            " * Rule: c.(age_RightDiffender_Sepahan IS middle_age)\n",
            " * Added rule IF c.(age_RightDiffender_Sepahan IS middle_age) THEN ('result2', 'Sepahan_win')\n",
            "\n",
            " * Simple clause with parentheses matched\n",
            " * Rule: c.(age_RightDiffender_Foolad IS very_old)\n",
            " * Added rule IF c.(age_RightDiffender_Foolad IS very_old) THEN ('result2', 'Sepahan_win')\n",
            "\n",
            " * Simple clause with parentheses matched\n",
            " * Rule: c.(price_RightDiffender_Foolad IS cheap)\n",
            " * Added rule IF c.(price_RightDiffender_Foolad IS cheap) THEN ('result2', 'Sepahan_win')\n",
            "\n",
            " * Simple clause with parentheses matched\n",
            " * Rule: c.(age_MidDiffender1_Foolad IS middle_age)\n",
            " * Added rule IF c.(age_MidDiffender1_Foolad IS middle_age) THEN ('result2', 'Foolad_win')\n",
            "\n",
            " * Simple clause with parentheses matched\n",
            " * Rule: c.(age_MidDiffender1_Sepahan IS very_old)\n",
            " * Added rule IF c.(age_MidDiffender1_Sepahan IS very_old) THEN ('result2', 'Foolad_win')\n",
            "\n",
            " * Simple clause with parentheses matched\n",
            " * Rule: c.(price_MidDiffender1_Foolad IS expensive)\n",
            " * Added rule IF c.(price_MidDiffender1_Foolad IS expensive) THEN ('result2', 'Foolad_win')\n",
            "\n",
            " * Simple clause with parentheses matched\n",
            " * Rule: c.(price_MidDiffender1_Sepahan IS cheap)\n",
            " * Added rule IF c.(price_MidDiffender1_Sepahan IS cheap) THEN ('result2', 'Foolad_win')\n",
            "\n",
            " * Simple clause with parentheses matched\n",
            " * Rule: c.(age_MidDiffender2_Foolad IS middle_age)\n",
            " * Added rule IF c.(age_MidDiffender2_Foolad IS middle_age) THEN ('result2', 'Foolad_win')\n",
            "\n",
            " * Simple clause with parentheses matched\n",
            " * Rule: c.(age_MidDiffender2_Sepahan IS very_old)\n",
            " * Added rule IF c.(age_MidDiffender2_Sepahan IS very_old) THEN ('result2', 'Foolad_win')\n",
            "\n",
            " * Simple clause with parentheses matched\n",
            " * Rule: c.(price_MidDiffender2_Sepahan IS cheap)\n",
            " * Added rule IF c.(price_MidDiffender2_Sepahan IS cheap) THEN ('result2', 'Foolad_win')\n",
            "\n",
            " * Simple clause with parentheses matched\n",
            " * Rule: c.(price_MidDiffender2_Foolad IS expensive)\n",
            " * Added rule IF c.(price_MidDiffender2_Foolad IS expensive) THEN ('result2', 'Foolad_win')\n",
            "\n",
            " * Simple clause with parentheses matched\n",
            " * Rule: c.(price_LeftDiffender_Foolad IS expensive)\n",
            " * Added rule IF c.(price_LeftDiffender_Foolad IS expensive) THEN ('result2', 'Foolad_win')\n",
            "\n",
            " * Simple clause with parentheses matched\n",
            " * Rule: c.(age_LeftDiffender_Foolad IS middle_age)\n",
            " * Added rule IF c.(age_LeftDiffender_Foolad IS middle_age) THEN ('result2', 'Foolad_win')\n",
            "\n",
            " * Simple clause with parentheses matched\n",
            " * Rule: c.(age_LeftDiffender_Sepahan IS very_old)\n",
            " * Added rule IF c.(age_LeftDiffender_Sepahan IS very_old) THEN ('result2', 'Foolad_win')\n",
            "\n",
            " * Simple clause with parentheses matched\n",
            " * Rule: c.(price_LeftDiffender_Sepahan IS cheap)\n",
            " * Added rule IF c.(price_LeftDiffender_Sepahan IS cheap) THEN ('result2', 'Foolad_win')\n",
            "\n",
            " * Simple clause with parentheses matched\n",
            " * Rule: c.(price_RightDiffender_Foolad IS expensive)\n",
            " * Added rule IF c.(price_RightDiffender_Foolad IS expensive) THEN ('result2', 'Foolad_win')\n",
            "\n",
            " * Simple clause with parentheses matched\n",
            " * Rule: c.(age_RightDiffender_Foolad IS middle_age)\n",
            " * Added rule IF c.(age_RightDiffender_Foolad IS middle_age) THEN ('result2', 'Foolad_win')\n",
            "\n",
            " * Simple clause with parentheses matched\n",
            " * Rule: c.(age_RightDiffender_Sepahan IS very_old)\n",
            " * Added rule IF c.(age_RightDiffender_Sepahan IS very_old) THEN ('result2', 'Foolad_win')\n",
            "\n",
            " * Simple clause with parentheses matched\n",
            " * Rule: c.(price_RightDiffender_Sepahan IS cheap)\n",
            " * Added rule IF c.(price_RightDiffender_Sepahan IS cheap) THEN ('result2', 'Foolad_win')\n",
            "\n",
            " * Simple clause with parentheses matched\n",
            " * Rule: c.(price_CenterForward_Sepahan IS expensive)\n",
            " * Added rule IF c.(price_CenterForward_Sepahan IS expensive) THEN ('result3', 'Sepahan_win')\n",
            "\n",
            " * Simple clause with parentheses matched\n",
            " * Rule: c.(age_CenterForward_Sepahan IS middle_age)\n",
            " * Added rule IF c.(age_CenterForward_Sepahan IS middle_age) THEN ('result3', 'Sepahan_win')\n",
            "\n",
            " * Simple clause with parentheses matched\n",
            " * Rule: c.(age_CenterForward_Foolad IS very_old)\n",
            " * Added rule IF c.(age_CenterForward_Foolad IS very_old) THEN ('result3', 'Sepahan_win')\n",
            "\n",
            " * Simple clause with parentheses matched\n",
            " * Rule: c.(price_CenterForward_Foolad IS cheap)\n",
            " * Added rule IF c.(price_CenterForward_Foolad IS cheap) THEN ('result3', 'Sepahan_win')\n",
            "\n",
            " * Simple clause with parentheses matched\n",
            " * Rule: c.(age_LeftForward_Sepahan IS middle_age)\n",
            " * Added rule IF c.(age_LeftForward_Sepahan IS middle_age) THEN ('result3', 'Sepahan_win')\n",
            "\n",
            " * Simple clause with parentheses matched\n",
            " * Rule: c.(age_LeftForward_Foolad IS very_old)\n",
            " * Added rule IF c.(age_LeftForward_Foolad IS very_old) THEN ('result3', 'Sepahan_win')\n",
            "\n",
            " * Simple clause with parentheses matched\n",
            " * Rule: c.(price_LeftForward_Foolad IS cheap)\n",
            " * Added rule IF c.(price_LeftForward_Foolad IS cheap) THEN ('result3', 'Sepahan_win')\n",
            "\n",
            " * Simple clause with parentheses matched\n",
            " * Rule: c.(price_LeftForward_Sepahan IS expensive)\n",
            " * Added rule IF c.(price_LeftForward_Sepahan IS expensive) THEN ('result3', 'Sepahan_win')\n",
            "\n",
            " * Simple clause with parentheses matched\n",
            " * Rule: c.(price_RightForward_Sepahan IS expensive)\n",
            " * Added rule IF c.(price_RightForward_Sepahan IS expensive) THEN ('result3', 'Sepahan_win')\n",
            "\n",
            " * Simple clause with parentheses matched\n",
            " * Rule: c.(age_RightForward_Foolad IS very_old)\n",
            " * Added rule IF c.(age_RightForward_Foolad IS very_old) THEN ('result3', 'Sepahan_win')\n",
            "\n",
            " * Simple clause with parentheses matched\n",
            " * Rule: c.(price_RightForward_Foolad IS cheap)\n",
            " * Added rule IF c.(price_RightForward_Foolad IS cheap) THEN ('result3', 'Sepahan_win')\n",
            "\n",
            " * Simple clause with parentheses matched\n",
            " * Rule: c.(price_CenterForward_Foolad IS expensive)\n",
            " * Added rule IF c.(price_CenterForward_Foolad IS expensive) THEN ('result3', 'Foolad_win')\n",
            "\n",
            " * Simple clause with parentheses matched\n",
            " * Rule: c.(age_CenterForward_Foolad IS middle_age)\n",
            " * Added rule IF c.(age_CenterForward_Foolad IS middle_age) THEN ('result3', 'Foolad_win')\n",
            "\n",
            " * Simple clause with parentheses matched\n",
            " * Rule: c.(age_CenterForward_Sepahan IS very_old)\n",
            " * Added rule IF c.(age_CenterForward_Sepahan IS very_old) THEN ('result3', 'Foolad_win')\n",
            "\n",
            " * Simple clause with parentheses matched\n",
            " * Rule: c.(price_CenterForward_Sepahan IS cheap)\n",
            " * Added rule IF c.(price_CenterForward_Sepahan IS cheap) THEN ('result3', 'Foolad_win')\n",
            "\n",
            " * Simple clause with parentheses matched\n",
            " * Rule: c.(price_LeftForward_Foolad IS expensive)\n",
            " * Added rule IF c.(price_LeftForward_Foolad IS expensive) THEN ('result3', 'Foolad_win')\n",
            "\n",
            " * Simple clause with parentheses matched\n",
            " * Rule: c.(age_LeftForward_Foolad IS middle_age)\n",
            " * Added rule IF c.(age_LeftForward_Foolad IS middle_age) THEN ('result3', 'Foolad_win')\n",
            "\n",
            " * Simple clause with parentheses matched\n",
            " * Rule: c.(age_LeftForward_Sepahan IS very_old)\n",
            " * Added rule IF c.(age_LeftForward_Sepahan IS very_old) THEN ('result3', 'Foolad_win')\n",
            "\n",
            " * Simple clause with parentheses matched\n",
            " * Rule: c.(price_LeftForward_Sepahan IS cheap)\n",
            " * Added rule IF c.(price_LeftForward_Sepahan IS cheap) THEN ('result3', 'Foolad_win')\n",
            "\n",
            " * Simple clause with parentheses matched\n",
            " * Rule: c.(price_RightForward_Foolad IS expensive)\n",
            " * Added rule IF c.(price_RightForward_Foolad IS expensive) THEN ('result3', 'Foolad_win')\n",
            "\n",
            " * Simple clause with parentheses matched\n",
            " * Rule: c.(age_RightForward_Foolad IS middle_age)\n",
            " * Added rule IF c.(age_RightForward_Foolad IS middle_age) THEN ('result3', 'Foolad_win')\n",
            "\n",
            " * Simple clause with parentheses matched\n",
            " * Rule: c.(age_RightForward_Sepahan IS middle_age)\n",
            " * Added rule IF c.(age_RightForward_Sepahan IS middle_age) THEN ('result3', 'Sepahan_win')\n",
            "\n",
            " * Simple clause with parentheses matched\n",
            " * Rule: c.(age_RightForward_Sepahan IS very_old)\n",
            " * Added rule IF c.(age_RightForward_Sepahan IS very_old) THEN ('result3', 'Foolad_win')\n",
            "\n",
            " * Simple clause with parentheses matched\n",
            " * Rule: c.(price_RightForward_Sepahan IS cheap)\n",
            " * Added rule IF c.(price_RightForward_Sepahan IS cheap) THEN ('result3', 'Foolad_win')\n",
            "\n",
            " * Simple clause with parentheses matched\n",
            " * Rule: c.(history_Foolad IS bad)\n",
            " * Added rule IF c.(history_Foolad IS bad) THEN ('result4', 'Sepahan_win')\n",
            "\n",
            " * Simple clause with parentheses matched\n",
            " * Rule: c.(history_Sepahan IS good)\n",
            " * Added rule IF c.(history_Sepahan IS good) THEN ('result4', 'Sepahan_win')\n",
            "\n",
            " * Simple clause with parentheses matched\n",
            " * Rule: c.(history_Foolad IS good)\n",
            " * Added rule IF c.(history_Foolad IS good) THEN ('result4', 'Foolad_win')\n",
            "\n",
            " * Simple clause with parentheses matched\n",
            " * Rule: c.(history_Sepahan IS bad)\n",
            " * Added rule IF c.(history_Sepahan IS bad) THEN ('result4', 'Foolad_win')\n",
            "\n",
            " * Regular expression is not matching with single atomic clause\n",
            " * Looking for an operator in (history_Foolad IS bad) AND (history_Sepahan IS bad)\n",
            "  -- Found (history_Foolad IS bad) *AND* (history_Sepahan IS bad)\n",
            " * Simple clause with parentheses matched\n",
            " * Rule: c.(history_Foolad IS bad)\n",
            " * Simple clause with parentheses matched\n",
            " * Rule: c.(history_Sepahan IS bad)\n",
            " * Added rule IF f.(c.(history_Foolad IS bad) AND c.(history_Sepahan IS bad)) THEN ('result4', 'tie')\n",
            "\n",
            " * Regular expression is not matching with single atomic clause\n",
            " * Looking for an operator in (history_Foolad IS medium) AND (history_Sepahan IS medium)\n",
            "  -- Found (history_Foolad IS medium) *AND* (history_Sepahan IS medium)\n",
            " * Simple clause with parentheses matched\n",
            " * Rule: c.(history_Foolad IS medium)\n",
            " * Simple clause with parentheses matched\n",
            " * Rule: c.(history_Sepahan IS medium)\n",
            " * Added rule IF f.(c.(history_Foolad IS medium) AND c.(history_Sepahan IS medium)) THEN ('result4', 'tie')\n",
            "\n",
            " * 68 rules successfully added\n"
          ]
        }
      ],
      "source": [
        "# Q2_graded\n",
        "# Do not change the above line.\n",
        "\n",
        "Rules = [\n",
        "        \n",
        "        \"IF (price_GoalKeeper_Sepahan IS expensive) THEN (result1 IS Sepahan_win)\",\n",
        "        \"IF (price_GoalKeeper_Foolad IS cheap) THEN (result1 IS Sepahan_win)\",  \n",
        "        \"IF (age_GoalKeeper_Sepahan IS middle_age) THEN (result1 IS Sepahan_win)\",\n",
        "        \"IF (age_GoalKeeper_Foolad IS very_old) THEN (result1 IS Sepahan_win)\",\n",
        "        \"IF (price_GoalKeeper_Foolad IS expensive) THEN (result1 IS Foolad_win)\",\n",
        "        \"IF (age_GoalKeeper_Sepahan IS very_old) THEN (result1 IS Foolad_win)\",\n",
        "        \n",
        "        \"IF (price_MidDiffender1_Sepahan IS expensive) THEN (result2 IS Sepahan_win)\",\n",
        "        \"IF (price_MidDiffender1_Foolad IS cheap) THEN (result2 IS Sepahan_win)\",\n",
        "        \"IF (age_MidDiffender1_Sepahan IS middle_age) THEN (result2 IS Sepahan_win)\",\n",
        "        \"IF (age_MidDiffender1_Foolad IS very_old) THEN (result2 IS Sepahan_win)\",\n",
        "        \"IF (price_MidDiffender2_Sepahan IS expensive) THEN (result2 IS Sepahan_win)\",\n",
        "        \"IF (age_MidDiffender2_Sepahan IS middle_age) THEN (result2 IS Sepahan_win)\",\n",
        "        \"IF (age_MidDiffender2_Foolad IS very_old) THEN (result2 IS Sepahan_win)\",\n",
        "        \"IF (price_MidDiffender2_Foolad IS cheap) THEN (result2 IS Sepahan_win)\",\n",
        "        \"IF (price_LeftDiffender_Sepahan IS expensive) THEN (result2 IS Sepahan_win)\",\n",
        "        \"IF (age_LeftDiffender_Sepahan IS middle_age) THEN (result2 IS Sepahan_win)\",\n",
        "        \"IF (age_LeftDiffender_Foolad IS very_old) THEN (result2 IS Sepahan_win)\",\n",
        "        \"IF (price_LeftDiffender_Foolad IS cheap) THEN (result2 IS Sepahan_win)\",\n",
        "        \"IF (price_RightDiffender_Sepahan IS expensive) THEN (result2 IS Sepahan_win)\",\n",
        "        \"IF (age_RightDiffender_Sepahan IS middle_age) THEN (result2 IS Sepahan_win)\",\n",
        "        \"IF (age_RightDiffender_Foolad IS very_old) THEN (result2 IS Sepahan_win)\",\n",
        "        \"IF (price_RightDiffender_Foolad IS cheap) THEN (result2 IS Sepahan_win)\",\n",
        "        \"IF (age_MidDiffender1_Foolad IS middle_age) THEN (result2 IS Foolad_win)\",\n",
        "        \"IF (age_MidDiffender1_Sepahan IS very_old) THEN (result2 IS Foolad_win)\",\n",
        "        \"IF (price_MidDiffender1_Foolad IS expensive) THEN (result2 IS Foolad_win)\",\n",
        "        \"IF (price_MidDiffender1_Sepahan IS cheap) THEN (result2 IS Foolad_win)\",\n",
        "        \"IF (age_MidDiffender2_Foolad IS middle_age) THEN (result2 IS Foolad_win)\",\n",
        "        \"IF (age_MidDiffender2_Sepahan IS very_old) THEN (result2 IS Foolad_win)\",\n",
        "        \"IF (price_MidDiffender2_Sepahan IS cheap) THEN (result2 IS Foolad_win)\",\n",
        "        \"IF (price_MidDiffender2_Foolad IS expensive) THEN (result2 IS Foolad_win)\",\n",
        "        \"IF (price_LeftDiffender_Foolad IS expensive) THEN (result2 IS Foolad_win)\",        \n",
        "        \"IF (age_LeftDiffender_Foolad IS middle_age) THEN (result2 IS Foolad_win)\",               \n",
        "        \"IF (age_LeftDiffender_Sepahan IS very_old) THEN (result2 IS Foolad_win)\",        \n",
        "        \"IF (price_LeftDiffender_Sepahan IS cheap) THEN (result2 IS Foolad_win)\",\n",
        "        \"IF (price_RightDiffender_Foolad IS expensive) THEN (result2 IS Foolad_win)\",        \n",
        "        \"IF (age_RightDiffender_Foolad IS middle_age) THEN (result2 IS Foolad_win)\",       \n",
        "        \"IF (age_RightDiffender_Sepahan IS very_old) THEN (result2 IS Foolad_win)\",       \n",
        "        \"IF (price_RightDiffender_Sepahan IS cheap) THEN (result2 IS Foolad_win)\",\n",
        "        \n",
        "        \n",
        "        \"IF (price_CenterForward_Sepahan IS expensive) THEN (result3 IS Sepahan_win)\",\n",
        "        \"IF (age_CenterForward_Sepahan IS middle_age) THEN (result3 IS Sepahan_win)\",\n",
        "        \"IF (age_CenterForward_Foolad IS very_old) THEN (result3 IS Sepahan_win)\",\n",
        "        \"IF (price_CenterForward_Foolad IS cheap) THEN (result3 IS Sepahan_win)\",\n",
        "        \"IF (age_LeftForward_Sepahan IS middle_age) THEN (result3 IS Sepahan_win)\",\n",
        "        \"IF (age_LeftForward_Foolad IS very_old) THEN (result3 IS Sepahan_win)\",\n",
        "        \"IF (price_LeftForward_Foolad IS cheap) THEN (result3 IS Sepahan_win)\",\n",
        "        \"IF (price_LeftForward_Sepahan IS expensive) THEN (result3 IS Sepahan_win)\",\n",
        "        \"IF (price_RightForward_Sepahan IS expensive) THEN (result3 IS Sepahan_win)\",\n",
        "        \"IF (age_RightForward_Foolad IS very_old) THEN (result3 IS Sepahan_win)\",\n",
        "        \"IF (price_RightForward_Foolad IS cheap) THEN (result3 IS Sepahan_win)\",\n",
        "        \"IF (price_CenterForward_Foolad IS expensive) THEN (result3 IS Foolad_win)\",\n",
        "        \"IF (age_CenterForward_Foolad IS middle_age) THEN (result3 IS Foolad_win)\",\n",
        "        \"IF (age_CenterForward_Sepahan IS very_old) THEN (result3 IS Foolad_win)\",\n",
        "        \"IF (price_CenterForward_Sepahan IS cheap) THEN (result3 IS Foolad_win)\",\n",
        "        \"IF (price_LeftForward_Foolad IS expensive) THEN (result3 IS Foolad_win)\",       \n",
        "        \"IF (age_LeftForward_Foolad IS middle_age) THEN (result3 IS Foolad_win)\",        \n",
        "        \"IF (age_LeftForward_Sepahan IS very_old) THEN (result3 IS Foolad_win)\",        \n",
        "        \"IF (price_LeftForward_Sepahan IS cheap) THEN (result3 IS Foolad_win)\",\n",
        "        \"IF (price_RightForward_Foolad IS expensive) THEN (result3 IS Foolad_win)\",       \n",
        "        \"IF (age_RightForward_Foolad IS middle_age) THEN (result3 IS Foolad_win)\",\n",
        "        \"IF (age_RightForward_Sepahan IS middle_age) THEN (result3 IS Sepahan_win)\",       \n",
        "        \"IF (age_RightForward_Sepahan IS very_old) THEN (result3 IS Foolad_win)\",      \n",
        "        \"IF (price_RightForward_Sepahan IS cheap) THEN (result3 IS Foolad_win)\",\n",
        "         \n",
        "        \"IF (history_Foolad IS bad) THEN (result4 IS Sepahan_win)\",\n",
        "        \"IF (history_Sepahan IS good) THEN (result4 IS Sepahan_win)\",\n",
        "        \"IF (history_Foolad IS good) THEN (result4 IS Foolad_win)\",\n",
        "        \"IF (history_Sepahan IS bad) THEN (result4 IS Foolad_win)\",\n",
        "        \"IF (history_Foolad IS bad) AND (history_Sepahan IS bad) THEN (result4 IS tie)\",\n",
        "        \"IF (history_Foolad IS medium) AND (history_Sepahan IS medium) THEN (result4 IS tie)\"\n",
        "]\n",
        "FS.add_rules(Rules, verbose=True)"
      ]
    },
    {
      "cell_type": "markdown",
      "metadata": {
        "id": "Wk8slbKWUm5x"
      },
      "source": [
        "## Setting Sepahan Variables"
      ]
    },
    {
      "cell_type": "code",
      "execution_count": 27,
      "metadata": {
        "id": "e6xCsSbgUmoy"
      },
      "outputs": [],
      "source": [
        "# Q2_graded\n",
        "# Do not change the above line.\n",
        "\n",
        "FS.set_variable(\"price_GoalKeeper_Sepahan\", 405)\n",
        "FS.set_variable(\"age_GoalKeeper_Sepahan\", 33)\n",
        "FS.set_variable(\"price_LeftDiffender_Sepahan\", 1080)\n",
        "FS.set_variable(\"age_LeftDiffender_Sepahan\", 25)\n",
        "FS.set_variable(\"price_RightDiffender_Sepahan\", 698)\n",
        "FS.set_variable(\"age_RightDiffender_Sepahan\", 29)\n",
        "FS.set_variable(\"price_MidDiffender1_Sepahan\", 450)\n",
        "FS.set_variable(\"age_MidDiffender1_Sepahan\", 29)\n",
        "FS.set_variable(\"price_MidDiffender2_Sepahan\", 315)\n",
        "FS.set_variable(\"age_MidDiffender2_Sepahan\", 31)\n",
        "FS.set_variable(\"price_MidFielder1_Sepahan\", 585)\n",
        "FS.set_variable(\"age_MidFielder1_Sepahan\", 20)\n",
        "FS.set_variable(\"price_MidFielder2_Sepahan\", 495)\n",
        "FS.set_variable(\"age_MidFielder2_Sepahan\", 29)\n",
        "FS.set_variable(\"price_MidFielder3_Sepahan\", 450)\n",
        "FS.set_variable(\"age_MidFielder3_Sepahan\", 32)\n",
        "FS.set_variable(\"price_RightForward_Sepahan\", 563)\n",
        "FS.set_variable(\"age_RightForward_Sepahan\", 29)\n",
        "FS.set_variable(\"price_LeftForward_Sepahan\", 270)\n",
        "FS.set_variable(\"age_LeftForward_Sepahan\", 33)\n",
        "FS.set_variable(\"price_CenterForward_Sepahan\", 540)\n",
        "FS.set_variable(\"age_CenterForward_Sepahan\", 27)"
      ]
    },
    {
      "cell_type": "markdown",
      "metadata": {
        "id": "qax-W7sCVUfg"
      },
      "source": [
        "## Setting Foolad Variables"
      ]
    },
    {
      "cell_type": "code",
      "execution_count": 28,
      "metadata": {
        "id": "HQUV5RUYVXmT"
      },
      "outputs": [],
      "source": [
        "# Q2_graded\n",
        "# Do not change the above line.\n",
        "\n",
        "FS.set_variable(\"history_Sepahan\", 4) \n",
        "FS.set_variable(\"history_Foolad\", 3) \n",
        "FS.set_variable(\"price_GoalKeeper_Foolad\", 270)\n",
        "FS.set_variable(\"age_GoalKeeper_Foolad\", 27)\n",
        "FS.set_variable(\"price_LeftDiffender_Foolad\", 338)\n",
        "FS.set_variable(\"age_LeftDiffender_Foolad\", 23)\n",
        "FS.set_variable(\"price_RightDiffender_Foolad\", 428)\n",
        "FS.set_variable(\"age_RightDiffender_Foolad\", 24)\n",
        "FS.set_variable(\"price_MidDiffender1_Foolad\", 405)\n",
        "FS.set_variable(\"age_MidDiffender1_Foolad\", 25)\n",
        "FS.set_variable(\"price_MidDiffender2_Foolad\", 383)\n",
        "FS.set_variable(\"age_MidDiffender2_Foolad\", 22)\n",
        "FS.set_variable(\"price_MidFielder1_Foolad\", 225)\n",
        "FS.set_variable(\"age_MidFielder1_Foolad\", 32)\n",
        "FS.set_variable(\"price_MidFielder2_Foolad\", 225)\n",
        "FS.set_variable(\"age_MidFielder2_Foolad\", 29)\n",
        "FS.set_variable(\"price_MidFielder3_Foolad\", 585)\n",
        "FS.set_variable(\"age_MidFielder3_Foolad\", 29)\n",
        "FS.set_variable(\"price_RightForward_Foolad\", 496)\n",
        "FS.set_variable(\"age_RightForward_Foolad\", 28)\n",
        "FS.set_variable(\"price_LeftForward_Foolad\", 405)\n",
        "FS.set_variable(\"age_LeftForward_Foolad\", 22)\n",
        "FS.set_variable(\"price_CenterForward_Foolad\", 405)\n",
        "FS.set_variable(\"age_CenterForward_Foolad\", 31)"
      ]
    },
    {
      "cell_type": "markdown",
      "metadata": {
        "id": "xOdKNSFdWaQX"
      },
      "source": [
        "## Results"
      ]
    },
    {
      "cell_type": "code",
      "execution_count": 29,
      "metadata": {
        "colab": {
          "base_uri": "https://localhost:8080/"
        },
        "id": "N6P9Dai7WXWr",
        "outputId": "b439b740-cc50-4333-831a-900ca01835fb"
      },
      "outputs": [
        {
          "name": "stdout",
          "output_type": "stream",
          "text": [
            "The prediction of the game is Sepahan 3-0 Foolad\n"
          ]
        }
      ],
      "source": [
        "# Q2_graded\n",
        "# Do not change the above line.\n",
        "\n",
        "Sepahan_score = 0\n",
        "Foolad_score = 0\n",
        "score = FS.inference()\n",
        "\n",
        "for i in range(1,5):\n",
        "    if score[f\"result{i}\"] > 1:\n",
        "        Foolad_score += 1\n",
        "    elif score[f\"result{i}\"] < -1:\n",
        "        Sepahan_score += 1\n",
        "\n",
        "print(f\"The prediction of the game is Sepahan {Sepahan_score}-{Foolad_score} Foolad\")"
      ]
    },
    {
      "cell_type": "markdown",
      "metadata": {
        "id": "mDsIdRx2x32X"
      },
      "source": [
        "# <font color='red'>Submission</font>\n",
        "\n",
        "1. Sign up in [Gradescope](https://www.gradescope.com) with proper name and student ID.\n",
        "2. Fill in your full name (seperated by single spaces) and student ID in the beginning of this notebook.\n",
        "3. After you're done with this notebook, you should do the following:\n",
        "  - Clear all outputs of the notebook.\n",
        "  ![clear all outputs](https://i.ibb.co/y6FrttB/Screen-Shot-2021-03-21-at-01-51-42.png)\n",
        "  - Run all of the cells (if you skipped a question just leave the cell unchanged), and make sure all of your outputs are correct.\n",
        "  ![run all](https://i.ibb.co/cgRcBZ0/Screen-Shot-2021-03-21-at-01-54-58.png)\n",
        "  - Save your notebook.\n",
        "  \n",
        "  - If you're using Colab, download your notebook.\n",
        "  ![download ipynb](https://i.ibb.co/2KxYM6K/Screen-Shot-2021-03-21-at-02-03-50.png)\n",
        "  \n",
        "  - Put the notebook file you just downloaded and `convert.py` in the same folder run the following command:\n",
        "  ```bash\n",
        "  python convert.py\n",
        "  ```\n",
        "  This will export your code for each question into a `.py` file.\n",
        "    - **Note**: if you want to add more cells, add this to the **first** line of the cell:\n",
        "  ```python\n",
        "  # Q2_graded\n",
        "  ```\n",
        "  according to the question number.\n",
        "  - There are 2 assignments in Gradescope:\n",
        "  \n",
        "    You should upload your **codes** and your **notebook** in `HW4` section and your final report for all of the questions as a **single pdf** file in `HW4 - Report`. Autograder will automatically check for:\n",
        "    - `CI002_HW4.ipynb`\n",
        "    - `Q2.py`\n",
        "    - Your name and ID in the beginning of `.ipynb` file.\n",
        "\n",
        "    It is important that you <font color='red'>**don't**</font> change the names of these files before submission.\n",
        "\n",
        "4. If you pass the autograder, you're good to go."
      ]
    }
  ],
  "metadata": {
    "colab": {
      "collapsed_sections": [],
      "name": "CI002_HW4.ipynb",
      "provenance": []
    },
    "kernelspec": {
      "display_name": "Python 3",
      "name": "python3"
    },
    "language_info": {
      "name": "python"
    }
  },
  "nbformat": 4,
  "nbformat_minor": 0
}
